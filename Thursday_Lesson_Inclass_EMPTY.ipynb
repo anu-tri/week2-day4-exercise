{
 "cells": [
  {
   "cell_type": "markdown",
   "metadata": {},
   "source": [
    "# Object-Oriented-Programming (OOP)"
   ]
  },
  {
   "cell_type": "markdown",
   "metadata": {},
   "source": [
    "## Tasks Today:\n",
    "\n",
    "   \n",
    "\n",
    "1) <b>Creating a Class (Initializing/Declaring)</b> <br>\n",
    "2) <b>Using a Class (Instantiating)</b> <br>\n",
    " &nbsp;&nbsp;&nbsp;&nbsp; a) Creating One Instance <br>\n",
    " &nbsp;&nbsp;&nbsp;&nbsp; b) Creating Multiple Instances <br>\n",
    " &nbsp;&nbsp;&nbsp;&nbsp; c) In-Class Exercise #1 - Create a Class 'Car' and instantiate three different makes of cars <br>\n",
    "3) <b>The \\__init\\__() Method</b> <br>\n",
    " &nbsp;&nbsp;&nbsp;&nbsp; a) The 'self' Attribute <br>\n",
    "4) <b>Class Attributes</b> <br>\n",
    " &nbsp;&nbsp;&nbsp;&nbsp; a) Initializing Attributes <br>\n",
    " &nbsp;&nbsp;&nbsp;&nbsp; b) Setting an Attribute Outside of the \\__init\\__() Method <br>\n",
    " &nbsp;&nbsp;&nbsp;&nbsp; c) Setting Defaults for Attributes <br>\n",
    " &nbsp;&nbsp;&nbsp;&nbsp; d) Accessing Class Attributes <br>\n",
    " &nbsp;&nbsp;&nbsp;&nbsp; e) Changing Class Attributes <br>\n",
    " &nbsp;&nbsp;&nbsp;&nbsp; f) In-Class Exercise #2 - Add a color and wheels attribute to your 'Car' class <br>\n",
    "5) <b>Class Methods</b> <br>\n",
    " &nbsp;&nbsp;&nbsp;&nbsp; a) Creating <br>\n",
    " &nbsp;&nbsp;&nbsp;&nbsp; b) Calling <br>\n",
    " &nbsp;&nbsp;&nbsp;&nbsp; c) Modifying an Attribute's Value Through a Method <br>\n",
    " &nbsp;&nbsp;&nbsp;&nbsp; d) Incrementing an Attribute's Value Through a Method <br>\n",
    " &nbsp;&nbsp;&nbsp;&nbsp; e) In-Class Exercise #3 - Add a method that prints the cars color and wheel number, then call them <br>\n",
    "6) <b>Inheritance</b> <br>\n",
    " &nbsp;&nbsp;&nbsp;&nbsp; a) Syntax for Inheriting from a Parent Class <br>\n",
    " &nbsp;&nbsp;&nbsp;&nbsp; b) The \\__init\\__() Method for a Child Class (super()) <br>\n",
    " &nbsp;&nbsp;&nbsp;&nbsp; c) Defining Attributes and Methods for the Child Class <br>\n",
    " &nbsp;&nbsp;&nbsp;&nbsp; d) Method Overriding <br>\n",
    " &nbsp;&nbsp;&nbsp;&nbsp; e) In-Class Exercise #4 - Create a class 'Ford' that inherits from 'Car' class and initialize it as a Blue Ford Explorer with 4 wheels using the super() method <br>\n",
    "7) <b>Classes as Attributes</b> <br>\n",
    "8) <b>Exercises</b> <br>\n",
    " &nbsp;&nbsp;&nbsp;&nbsp; a) Exercise #1 - Turn the shopping cart program from yesterday into an object-oriented program <br>"
   ]
  },
  {
   "cell_type": "code",
   "execution_count": 10,
   "metadata": {},
   "outputs": [
    {
     "name": "stdout",
     "output_type": "stream",
     "text": [
      "1\n",
      "2\n",
      "Fizz\n",
      "4\n",
      "Buzz\n",
      "Fizz\n",
      "7\n",
      "8\n",
      "Fizz\n",
      "Buzz\n",
      "11\n",
      "Fizz\n",
      "13\n",
      "14\n",
      "FizzBuzz\n",
      "16\n",
      "17\n",
      "Fizz\n",
      "19\n",
      "Buzz\n",
      "Fizz\n",
      "22\n",
      "23\n",
      "Fizz\n",
      "Buzz\n",
      "26\n",
      "Fizz\n",
      "28\n",
      "29\n",
      "FizzBuzz\n"
     ]
    }
   ],
   "source": [
    "def fizzbuzz(num):\n",
    "    \n",
    "    for i in range(1,num+1):\n",
    "        if i%3 == 0 and i%5 == 0:\n",
    "            print(\"FizzBuzz\")\n",
    "        elif i%5 == 0:\n",
    "            print(\"Buzz\")\n",
    "        elif i%3 == 0:\n",
    "            print(\"Fizz\")\n",
    "        else:\n",
    "            print(i)\n",
    "\n",
    "fizzbuzz(30)"
   ]
  },
  {
   "cell_type": "code",
   "execution_count": null,
   "metadata": {},
   "outputs": [],
   "source": [
    "# Circumfrance of a cirle\n"
   ]
  },
  {
   "cell_type": "markdown",
   "metadata": {},
   "source": [
    "## Creating a Class (Initializing/Declaring)\n",
    "<p>When creating a class, function, or even a variable you are initializing that object. Initializing and Declaring occur at the same time in Python, whereas in lower level languages you have to declare an object before initializing it. This is the first step in the process of using a class.</p>"
   ]
  },
  {
   "cell_type": "code",
   "execution_count": null,
   "metadata": {},
   "outputs": [],
   "source": [
    "class Car(): #PascalCase\n",
    "    wheels = 4\n",
    "    color = \"blue\"\n",
    "    "
   ]
  },
  {
   "cell_type": "markdown",
   "metadata": {},
   "source": [
    "## Using a Class (Instantiating)\n",
    "<p>The process of creating a class is called <i>Instantiating</i>. Each time you create a variable of that type of class, it is referred to as an <i>Instance</i> of that class. This is the second step in the process of using a class.</p>"
   ]
  },
  {
   "cell_type": "markdown",
   "metadata": {},
   "source": [
    "##### Creating One Instance"
   ]
  },
  {
   "cell_type": "code",
   "execution_count": null,
   "metadata": {},
   "outputs": [],
   "source": [
    "ford = Car()"
   ]
  },
  {
   "cell_type": "markdown",
   "metadata": {},
   "source": [
    "##### Creating Multiple Instances"
   ]
  },
  {
   "cell_type": "code",
   "execution_count": 13,
   "metadata": {},
   "outputs": [
    {
     "name": "stdout",
     "output_type": "stream",
     "text": [
      "4\n",
      "blue\n",
      "4\n"
     ]
    }
   ],
   "source": [
    "class Car(): #PascalCase\n",
    "    wheels = 4\n",
    "    color = \"blue\"\n",
    "    \n",
    "chevy = Car()\n",
    "honda = Car()\n",
    "porsche = Car()\n",
    "\n",
    "print(chevy.wheels)\n",
    "print(chevy.color)\n",
    "print(honda.wheels)\n"
   ]
  },
  {
   "cell_type": "markdown",
   "metadata": {},
   "source": [
    "##### In-Class Exercise #1 - Create a Class 'Car' and Instantiate three different makes of cars"
   ]
  },
  {
   "cell_type": "code",
   "execution_count": 15,
   "metadata": {},
   "outputs": [
    {
     "name": "stdout",
     "output_type": "stream",
     "text": [
      "white\n",
      "suv\n",
      "5\n",
      "True\n"
     ]
    }
   ],
   "source": [
    "class Car2:\n",
    "    color = \"white\"\n",
    "    seats = \"5\"\n",
    "    type = \"suv\"\n",
    "    hasSunRoof = True\n",
    "    \n",
    "prius = Car2()\n",
    "audi = Car2()\n",
    "acura = Car2()\n",
    "\n",
    "print(prius.color)\n",
    "print(audi.type)\n",
    "print(acura.seats)\n",
    "print(acura.hasSunRoof)"
   ]
  },
  {
   "cell_type": "markdown",
   "metadata": {},
   "source": [
    "## The \\__init\\__() Method <br>\n",
    "<p>This method is used in almost every created class, and called only once upon the creation of the class instance. This method will initialize all variables needed for the object.</p>"
   ]
  },
  {
   "cell_type": "code",
   "execution_count": 23,
   "metadata": {},
   "outputs": [
    {
     "name": "stdout",
     "output_type": "stream",
     "text": [
      "4.7L\n",
      "4.7L\n",
      "4\n"
     ]
    }
   ],
   "source": [
    "class Car():\n",
    "    engine = \"4.7L\"\n",
    "    \n",
    "    #constructor\n",
    "    def __init__(self, numwheels): #numwheels is instance variable of class\n",
    "        self.wheels = numwheels\n",
    "        \n",
    "    \n",
    "ford = Car(4)\n",
    "print(ford.engine)\n",
    "print(Car.engine)\n",
    "print(ford.wheels) #has access to the Class and Instance attributes/methods\n",
    "#print(Car.wheels) #Cclass Car only has access to the class attributes/methods"
   ]
  },
  {
   "cell_type": "markdown",
   "metadata": {},
   "source": [
    "##### The 'self' Attribute <br>\n",
    "<p>This attribute is required to keep track of specific instance's attributes. Without the self attribute, the program would not know how to reference or keep track of an instance's attributes.</p>"
   ]
  },
  {
   "cell_type": "code",
   "execution_count": null,
   "metadata": {},
   "outputs": [],
   "source": [
    "# "
   ]
  },
  {
   "cell_type": "markdown",
   "metadata": {},
   "source": [
    "## Class Attributes <br>\n",
    "<p>While variables are inside of a class, they are referred to as attributes and not variables. When someone says 'attribute' you know they're speaking about a class. Attributes can be initialized through the init method, or outside of it.</p>"
   ]
  },
  {
   "cell_type": "markdown",
   "metadata": {},
   "source": [
    "##### Initializing Attributes"
   ]
  },
  {
   "cell_type": "code",
   "execution_count": null,
   "metadata": {},
   "outputs": [],
   "source": [
    "# see above"
   ]
  },
  {
   "cell_type": "markdown",
   "metadata": {},
   "source": [
    "##### Accessing Class Attributes"
   ]
  },
  {
   "cell_type": "code",
   "execution_count": null,
   "metadata": {
    "scrolled": true
   },
   "outputs": [],
   "source": [
    "# See Above"
   ]
  },
  {
   "cell_type": "markdown",
   "metadata": {},
   "source": [
    "##### Setting Defaults for Attributes"
   ]
  },
  {
   "cell_type": "code",
   "execution_count": 26,
   "metadata": {},
   "outputs": [
    {
     "ename": "TypeError",
     "evalue": "__init__() takes 2 positional arguments but 3 were given",
     "output_type": "error",
     "traceback": [
      "\u001b[1;31m---------------------------------------------------------------------------\u001b[0m",
      "\u001b[1;31mTypeError\u001b[0m                                 Traceback (most recent call last)",
      "\u001b[1;32m<ipython-input-26-e3d803c60542>\u001b[0m in \u001b[0;36m<module>\u001b[1;34m\u001b[0m\n\u001b[1;32m----> 1\u001b[1;33m \u001b[1;32mclass\u001b[0m \u001b[0mCar\u001b[0m\u001b[1;33m(\u001b[0m\u001b[1;33m)\u001b[0m\u001b[1;33m:\u001b[0m\u001b[1;33m\u001b[0m\u001b[1;33m\u001b[0m\u001b[0m\n\u001b[0m\u001b[0;32m      2\u001b[0m     \u001b[0mengine\u001b[0m \u001b[1;33m=\u001b[0m \u001b[1;34m\"4.7L\"\u001b[0m\u001b[1;33m\u001b[0m\u001b[1;33m\u001b[0m\u001b[0m\n\u001b[0;32m      3\u001b[0m     \u001b[1;32mdef\u001b[0m \u001b[0m__init__\u001b[0m\u001b[1;33m(\u001b[0m\u001b[0mself\u001b[0m\u001b[1;33m,\u001b[0m \u001b[0mwheels\u001b[0m\u001b[1;33m,\u001b[0m \u001b[0mcolor\u001b[0m\u001b[1;33m=\u001b[0m\u001b[1;34m\"Blue\"\u001b[0m\u001b[1;33m)\u001b[0m\u001b[1;33m:\u001b[0m\u001b[1;33m\u001b[0m\u001b[1;33m\u001b[0m\u001b[0m\n\u001b[0;32m      4\u001b[0m         \u001b[0mself\u001b[0m\u001b[1;33m.\u001b[0m\u001b[0mwheels\u001b[0m \u001b[1;33m=\u001b[0m \u001b[0mwheels\u001b[0m\u001b[1;33m\u001b[0m\u001b[1;33m\u001b[0m\u001b[0m\n\u001b[0;32m      5\u001b[0m         \u001b[0mself\u001b[0m\u001b[1;33m.\u001b[0m\u001b[0mcolor\u001b[0m \u001b[1;33m=\u001b[0m \u001b[0mcolor\u001b[0m\u001b[1;33m\u001b[0m\u001b[1;33m\u001b[0m\u001b[0m\n",
      "\u001b[1;32m<ipython-input-26-e3d803c60542>\u001b[0m in \u001b[0;36mCar\u001b[1;34m()\u001b[0m\n\u001b[0;32m      6\u001b[0m \u001b[1;33m\u001b[0m\u001b[0m\n\u001b[0;32m      7\u001b[0m     \u001b[0mhonda\u001b[0m \u001b[1;33m=\u001b[0m \u001b[0mCar\u001b[0m\u001b[1;33m(\u001b[0m\u001b[1;36m4\u001b[0m\u001b[1;33m)\u001b[0m\u001b[1;33m\u001b[0m\u001b[1;33m\u001b[0m\u001b[0m\n\u001b[1;32m----> 8\u001b[1;33m     \u001b[0mjeep\u001b[0m \u001b[1;33m=\u001b[0m \u001b[0mCar\u001b[0m\u001b[1;33m(\u001b[0m\u001b[1;36m8\u001b[0m\u001b[1;33m,\u001b[0m \u001b[1;34m\"Green\"\u001b[0m\u001b[1;33m)\u001b[0m\u001b[1;33m\u001b[0m\u001b[1;33m\u001b[0m\u001b[0m\n\u001b[0m\u001b[0;32m      9\u001b[0m \u001b[1;33m\u001b[0m\u001b[0m\n\u001b[0;32m     10\u001b[0m     \u001b[0mprint\u001b[0m\u001b[1;33m(\u001b[0m\u001b[1;34mf\"Honda has {honda.wheels} wheels and is {honda.color}\"\u001b[0m\u001b[1;33m)\u001b[0m\u001b[1;33m\u001b[0m\u001b[1;33m\u001b[0m\u001b[0m\n",
      "\u001b[1;31mTypeError\u001b[0m: __init__() takes 2 positional arguments but 3 were given"
     ]
    }
   ],
   "source": [
    "class Car():\n",
    "    engine = \"4.7L\"\n",
    "    def __init__(self, wheels, color=\"Blue\"):\n",
    "        self.wheels = wheels\n",
    "        self.color = color\n",
    "        \n",
    "    honda = Car(4)\n",
    "    jeep = Car(8, \"Green\")\n",
    "    \n",
    "    print(f\"Honda has {honda.wheels} wheels and is {honda.color}\")\n",
    "    print(f\"Jeep has {jeep.wheels} wheels and is {jeep.color}\")"
   ]
  },
  {
   "cell_type": "markdown",
   "metadata": {},
   "source": [
    "##### Changing Class Attributes <br>\n",
    "<p>Keep in mind there are global class attributes and then there are attributes only available to each class instance which won't effect other classes.</p>"
   ]
  },
  {
   "cell_type": "code",
   "execution_count": null,
   "metadata": {},
   "outputs": [],
   "source": []
  },
  {
   "cell_type": "code",
   "execution_count": null,
   "metadata": {},
   "outputs": [],
   "source": []
  },
  {
   "cell_type": "markdown",
   "metadata": {},
   "source": [
    "##### In-Class Exercise #2 - Add a doors and seats attribute to your 'Car' class then print out two different instances with different doors and seats"
   ]
  },
  {
   "cell_type": "code",
   "execution_count": 33,
   "metadata": {},
   "outputs": [
    {
     "ename": "NameError",
     "evalue": "name 'Car3' is not defined",
     "output_type": "error",
     "traceback": [
      "\u001b[1;31m---------------------------------------------------------------------------\u001b[0m",
      "\u001b[1;31mNameError\u001b[0m                                 Traceback (most recent call last)",
      "\u001b[1;32m<ipython-input-33-b71e7bf4e34d>\u001b[0m in \u001b[0;36m<module>\u001b[1;34m\u001b[0m\n\u001b[1;32m----> 1\u001b[1;33m \u001b[1;32mclass\u001b[0m \u001b[0mCar3\u001b[0m\u001b[1;33m(\u001b[0m\u001b[1;33m)\u001b[0m\u001b[1;33m:\u001b[0m\u001b[1;33m\u001b[0m\u001b[1;33m\u001b[0m\u001b[0m\n\u001b[0m\u001b[0;32m      2\u001b[0m     \u001b[0mengine\u001b[0m \u001b[1;33m=\u001b[0m \u001b[1;34m\"4.7L\"\u001b[0m\u001b[1;33m\u001b[0m\u001b[1;33m\u001b[0m\u001b[0m\n\u001b[0;32m      3\u001b[0m     \u001b[1;32mdef\u001b[0m \u001b[0m__init__\u001b[0m\u001b[1;33m(\u001b[0m\u001b[0mself\u001b[0m\u001b[1;33m,\u001b[0m \u001b[0mdoors\u001b[0m\u001b[1;33m=\u001b[0m\u001b[1;36m4\u001b[0m\u001b[1;33m,\u001b[0m \u001b[0mseats\u001b[0m\u001b[1;33m=\u001b[0m\u001b[1;36m7\u001b[0m\u001b[1;33m)\u001b[0m\u001b[1;33m:\u001b[0m\u001b[1;33m\u001b[0m\u001b[1;33m\u001b[0m\u001b[0m\n\u001b[0;32m      4\u001b[0m         \u001b[0mself\u001b[0m\u001b[1;33m.\u001b[0m\u001b[0mseats\u001b[0m \u001b[1;33m=\u001b[0m \u001b[0mseats\u001b[0m\u001b[1;33m\u001b[0m\u001b[1;33m\u001b[0m\u001b[0m\n\u001b[0;32m      5\u001b[0m         \u001b[0mself\u001b[0m\u001b[1;33m.\u001b[0m\u001b[0mdoors\u001b[0m \u001b[1;33m=\u001b[0m \u001b[0mdoors\u001b[0m\u001b[1;33m\u001b[0m\u001b[1;33m\u001b[0m\u001b[0m\n",
      "\u001b[1;32m<ipython-input-33-b71e7bf4e34d>\u001b[0m in \u001b[0;36mCar3\u001b[1;34m()\u001b[0m\n\u001b[0;32m      5\u001b[0m         \u001b[0mself\u001b[0m\u001b[1;33m.\u001b[0m\u001b[0mdoors\u001b[0m \u001b[1;33m=\u001b[0m \u001b[0mdoors\u001b[0m\u001b[1;33m\u001b[0m\u001b[1;33m\u001b[0m\u001b[0m\n\u001b[0;32m      6\u001b[0m \u001b[1;33m\u001b[0m\u001b[0m\n\u001b[1;32m----> 7\u001b[1;33m     \u001b[0mhonda\u001b[0m \u001b[1;33m=\u001b[0m \u001b[0mCar3\u001b[0m\u001b[1;33m(\u001b[0m\u001b[1;36m4\u001b[0m\u001b[1;33m,\u001b[0m \u001b[1;36m5\u001b[0m\u001b[1;33m)\u001b[0m\u001b[1;33m\u001b[0m\u001b[1;33m\u001b[0m\u001b[0m\n\u001b[0m\u001b[0;32m      8\u001b[0m     \u001b[0mjeep\u001b[0m \u001b[1;33m=\u001b[0m \u001b[0mCar3\u001b[0m\u001b[1;33m(\u001b[0m\u001b[1;36m8\u001b[0m\u001b[1;33m,\u001b[0m\u001b[1;36m7\u001b[0m\u001b[1;33m)\u001b[0m\u001b[1;33m\u001b[0m\u001b[1;33m\u001b[0m\u001b[0m\n\u001b[0;32m      9\u001b[0m     \u001b[0macura\u001b[0m \u001b[1;33m=\u001b[0m \u001b[0mCar3\u001b[0m\u001b[1;33m(\u001b[0m\u001b[1;36m8\u001b[0m\u001b[1;33m,\u001b[0m\u001b[1;36m8\u001b[0m\u001b[1;33m)\u001b[0m\u001b[1;33m\u001b[0m\u001b[1;33m\u001b[0m\u001b[0m\n",
      "\u001b[1;31mNameError\u001b[0m: name 'Car3' is not defined"
     ]
    }
   ],
   "source": [
    "class Car3():\n",
    "    engine = \"4.7L\"\n",
    "    def __init__(self, doors=4, seats=7):\n",
    "        self.seats = seats\n",
    "        self.doors = doors\n",
    "        \n",
    "    honda = Car3(4, 5)\n",
    "    jeep = Car3(8,7)\n",
    "    acura = Car3(8,8)\n",
    "    \n",
    "    print(f\"Honda has {honda.doors} doors {honda.seats} seats\")\n",
    "    print(f\"Jeep has {jeep.doors} doors {jeep.seats} seats\")\n",
    "    print(f\"Jeep has {acura.doors} doors {acura.seats} seats\")"
   ]
  },
  {
   "cell_type": "markdown",
   "metadata": {},
   "source": [
    "##### Creating"
   ]
  },
  {
   "cell_type": "code",
   "execution_count": 41,
   "metadata": {},
   "outputs": [],
   "source": [
    "class Car3():\n",
    "    \n",
    "    def __init__(self, wheels, color, seats):\n",
    "        self.seats = seats\n",
    "        self.wheels = wheels\n",
    "        self.color = color\n",
    "        \n",
    "    #method\n",
    "    def drive(self):\n",
    "        print(\"Drivinggggg\")\n",
    "    \n",
    "    def set_color(self, new_color):\n",
    "        self.color = new_color\n",
    "        \n",
    "    def describe(self):\n",
    "        print(f\"The car is {self.color} with {self.seats} seats and {self.wheels} wheels\")\n",
    "    \n",
    "    def add_seats(self):\n",
    "        self.seats += 1\n",
    "              "
   ]
  },
  {
   "cell_type": "markdown",
   "metadata": {},
   "source": [
    "##### Calling"
   ]
  },
  {
   "cell_type": "code",
   "execution_count": 44,
   "metadata": {},
   "outputs": [
    {
     "name": "stdout",
     "output_type": "stream",
     "text": [
      "Drivinggggg\n",
      "The car is red with 8 seats and 4 wheels\n",
      "The car is green with 8 seats and 4 wheels\n",
      "The car is green with 9 seats and 4 wheels\n",
      "The car is green with 9 seats and 4 wheels\n"
     ]
    },
    {
     "ename": "TypeError",
     "evalue": "describe() missing 1 required positional argument: 'self'",
     "output_type": "error",
     "traceback": [
      "\u001b[1;31m---------------------------------------------------------------------------\u001b[0m",
      "\u001b[1;31mTypeError\u001b[0m                                 Traceback (most recent call last)",
      "\u001b[1;32m<ipython-input-44-ec9068b0cc01>\u001b[0m in \u001b[0;36m<module>\u001b[1;34m\u001b[0m\n\u001b[0;32m      8\u001b[0m \u001b[1;33m\u001b[0m\u001b[0m\n\u001b[0;32m      9\u001b[0m \u001b[0mCar3\u001b[0m\u001b[1;33m.\u001b[0m\u001b[0mdescribe\u001b[0m\u001b[1;33m(\u001b[0m\u001b[0mchevy\u001b[0m\u001b[1;33m)\u001b[0m \u001b[1;31m#pasisng in the instance\u001b[0m\u001b[1;33m\u001b[0m\u001b[1;33m\u001b[0m\u001b[0m\n\u001b[1;32m---> 10\u001b[1;33m \u001b[0mCar3\u001b[0m\u001b[1;33m.\u001b[0m\u001b[0mdescribe\u001b[0m\u001b[1;33m(\u001b[0m\u001b[1;33m)\u001b[0m \u001b[1;31m#Error - describe doesn't work on a class it is an instance method\u001b[0m\u001b[1;33m\u001b[0m\u001b[1;33m\u001b[0m\u001b[0m\n\u001b[0m",
      "\u001b[1;31mTypeError\u001b[0m: describe() missing 1 required positional argument: 'self'"
     ]
    }
   ],
   "source": [
    "chevy = Car3(4, \"red\", 8)\n",
    "chevy.drive()\n",
    "chevy.describe()\n",
    "chevy.set_color(\"green\")\n",
    "chevy.describe()\n",
    "chevy.add_seats()\n",
    "chevy.describe()\n",
    "\n",
    "Car3.describe(chevy) #pasisng in the instance\n",
    "Car3.describe() #Error - describe doesn't work on a class it is an instance method"
   ]
  },
  {
   "cell_type": "code",
   "execution_count": 45,
   "metadata": {},
   "outputs": [
    {
     "name": "stdout",
     "output_type": "stream",
     "text": [
      "Drivinggggg\n",
      "The car is blue with 2 seats and 2 wheels\n"
     ]
    }
   ],
   "source": [
    "honda = Car3(2, \"blue\", 2)\n",
    "honda.drive()\n",
    "honda.describe()\n"
   ]
  },
  {
   "cell_type": "markdown",
   "metadata": {},
   "source": [
    "##### Modifying an Attribute's Value Through a Method"
   ]
  },
  {
   "cell_type": "code",
   "execution_count": null,
   "metadata": {},
   "outputs": [],
   "source": []
  },
  {
   "cell_type": "markdown",
   "metadata": {},
   "source": [
    "##### Incrementing an Attribute's Value Through a Method"
   ]
  },
  {
   "cell_type": "code",
   "execution_count": null,
   "metadata": {},
   "outputs": [],
   "source": []
  },
  {
   "cell_type": "markdown",
   "metadata": {},
   "source": [
    "##### In-Class Exercise #3 - Add a method that takes in three parameters of year, doors and seats and prints out a formatted print statement with make, model, year, seats, and doors"
   ]
  },
  {
   "cell_type": "code",
   "execution_count": 59,
   "metadata": {},
   "outputs": [],
   "source": [
    "# Create class with 2 paramters inside of the __init__ which are make and model\n",
    "class Car4:\n",
    "    def __init__(self, make, model):\n",
    "        self.make = make\n",
    "        self.model = model\n",
    "        #self.year = 0  #default value\n",
    "    \n",
    "\n",
    "# Inside of the Car class create a method that has 4 parameter in total (self,year,door,seats)\n",
    "    def add_details(self, year, doors, seats):\n",
    "        self.seats = seats\n",
    "        self.doors = doors\n",
    "        self.year = year #can edit year using this function\n",
    "        \n",
    "    # Output: This car is from 2019 and is a Ford Expolorer and has 4 doors and 5 seats    \n",
    "    def describe(self):\n",
    "        print(f\"This car is from {self.year} and is a {self.make} {self.model} and has {self.doors} doors \\\n",
    "and {self.seats} seats\")\n",
    "\n",
    "\n",
    "    def which_is_better(self, car):\n",
    "        if self.doors > car.doors:\n",
    "            print(f\"{self.make} {self.model} is better than {car.make} {car.model} \")\n",
    "        else:\n",
    "            print(f\"{self.make} {self.model} is worse than {car.make} {car.model} \")\n",
    "    "
   ]
  },
  {
   "cell_type": "code",
   "execution_count": 61,
   "metadata": {},
   "outputs": [
    {
     "name": "stdout",
     "output_type": "stream",
     "text": [
      "This car is from 2018 and is a Toyota Prius and has 4 doors and 5 seats\n",
      "This car is from 2018 and is a Honda Accord and has 0 doors and 5 seats\n",
      "Toyota Prius is better than Honda Accord \n",
      "Honda Accord is worse than Toyota Prius \n"
     ]
    }
   ],
   "source": [
    "mycar = Car4(\"Toyota\", \"Prius\")\n",
    "# print(mycar.make)\n",
    "# print(mycar.year)\n",
    "mycar.add_details(2018, 4, 5)\n",
    "mycar.describe()\n",
    "\n",
    "\n",
    "yourcar = Car4(\"Honda\", \"Accord\")\n",
    "yourcar.add_details(2018, 0, 5)\n",
    "yourcar.describe()\n",
    "\n",
    "mycar.which_is_better(yourcar)\n",
    "yourcar.which_is_better(mycar)\n",
    "\n"
   ]
  },
  {
   "cell_type": "code",
   "execution_count": 66,
   "metadata": {},
   "outputs": [],
   "source": [
    "# Create class with 2 paramters inside of the __init__ which are make and model\n",
    "class Car4:\n",
    "    def __init__(self, make, model):\n",
    "        self.make = make\n",
    "        self.model = model\n",
    "        #self.year = 0  #default value\n",
    "    \n",
    "\n",
    "# Inside of the Car class create a method that has 4 parameter in total (self,year,door,seats)\n",
    "    def add_details(self, year, doors, seats):\n",
    "        self.seats = seats\n",
    "        self.doors = doors\n",
    "        self.year = year #can edit year using this function\n",
    "        \n",
    "    # Output: This car is from 2019 and is a Ford Expolorer and has 4 doors and 5 seats    \n",
    "    def describe(self):\n",
    "        print(f\"This car is from {self.year} and is a {self.make} {self.model} and has {self.doors} doors \\\n",
    "and {self.seats} seats\")\n",
    "\n",
    "\n",
    "    def which_is_better(cls, car1, car2):\n",
    "        if car1.doors > car2.doors:\n",
    "            print(f\"{car1.make} {car1.model} is better than {car2.make} {car2.model} \")\n",
    "        else:\n",
    "            print(f\"{car1.make} {car1.model} is worse than {car2.make} {car2.model} \")\n",
    "    \n"
   ]
  },
  {
   "cell_type": "code",
   "execution_count": 69,
   "metadata": {},
   "outputs": [
    {
     "ename": "TypeError",
     "evalue": "which_is_better() missing 1 required positional argument: 'car2'",
     "output_type": "error",
     "traceback": [
      "\u001b[1;31m---------------------------------------------------------------------------\u001b[0m",
      "\u001b[1;31mTypeError\u001b[0m                                 Traceback (most recent call last)",
      "\u001b[1;32m<ipython-input-69-88e19afcf707>\u001b[0m in \u001b[0;36m<module>\u001b[1;34m\u001b[0m\n\u001b[1;32m----> 1\u001b[1;33m \u001b[0mCar4\u001b[0m\u001b[1;33m.\u001b[0m\u001b[0mwhich_is_better\u001b[0m\u001b[1;33m(\u001b[0m\u001b[0mmycar\u001b[0m\u001b[1;33m,\u001b[0m\u001b[0myourcar\u001b[0m\u001b[1;33m)\u001b[0m\u001b[1;33m\u001b[0m\u001b[1;33m\u001b[0m\u001b[0m\n\u001b[0m\u001b[0;32m      2\u001b[0m \u001b[0mCar4\u001b[0m\u001b[1;33m.\u001b[0m\u001b[0mwhich_is_better\u001b[0m\u001b[1;33m(\u001b[0m\u001b[0myourcar\u001b[0m\u001b[1;33m,\u001b[0m\u001b[0mmycar\u001b[0m\u001b[1;33m)\u001b[0m\u001b[1;33m\u001b[0m\u001b[1;33m\u001b[0m\u001b[0m\n\u001b[0;32m      3\u001b[0m \u001b[0mmycar\u001b[0m\u001b[1;33m.\u001b[0m\u001b[0mwhich_is_better\u001b[0m\u001b[1;33m(\u001b[0m\u001b[0mmycar\u001b[0m\u001b[1;33m,\u001b[0m\u001b[0myourcar\u001b[0m\u001b[1;33m)\u001b[0m\u001b[1;33m\u001b[0m\u001b[1;33m\u001b[0m\u001b[0m\n",
      "\u001b[1;31mTypeError\u001b[0m: which_is_better() missing 1 required positional argument: 'car2'"
     ]
    }
   ],
   "source": [
    "Car4.which_is_better(mycar,yourcar)\n",
    "Car4.which_is_better(yourcar,mycar)\n",
    "mycar.which_is_better(mycar,yourcar)"
   ]
  },
  {
   "cell_type": "markdown",
   "metadata": {},
   "source": [
    "## Inheritance <br>\n",
    "<p>You can create a child-parent relationship between two classes by using inheritance. What this allows you to do is have overriding methods, but also inherit traits from the parent class. Think of it as an actual parent and child, the child will inherit the parent's genes, as will the classes in OOP</p>"
   ]
  },
  {
   "cell_type": "markdown",
   "metadata": {},
   "source": [
    "##### Syntax for Inheriting from a Parent Class"
   ]
  },
  {
   "cell_type": "code",
   "execution_count": 89,
   "metadata": {
    "scrolled": true
   },
   "outputs": [
    {
     "name": "stdout",
     "output_type": "stream",
     "text": [
      "The dog has 15 mph and 9.8 m/s^2\n",
      "BARKK!\n",
      "Galloping\n"
     ]
    },
    {
     "data": {
      "text/plain": [
       "True"
      ]
     },
     "execution_count": 89,
     "metadata": {},
     "output_type": "execute_result"
    }
   ],
   "source": [
    "#Parent class\n",
    "class Animal:\n",
    "    acc = 9.8\n",
    "    def __init__(self, name, species, legs=4):\n",
    "        self.name = name\n",
    "        self.species = species\n",
    "        self.legs = legs\n",
    "        \n",
    "    def speak(self):\n",
    "        print(\"Some Generic Animal sound\")\n",
    "        \n",
    "    def run(self):\n",
    "        print(\"Galloping\")\n",
    "       \n",
    "    \n",
    "#Child class\n",
    "class Dog(Animal):\n",
    "    speed = 15\n",
    "    \n",
    "    def __init__(self, is_house_trained, name, species, legs=4):\n",
    "        super().__init__(name, species, legs)\n",
    "        self.is_house_trained = is_house_trained\n",
    "        \n",
    "    def describe(self):\n",
    "        print(f\"The dog has {self.speed} mph and {self.acc} m/s^2\")\n",
    "        \n",
    "    #override the parent class\n",
    "    def speak(self):\n",
    "        print(\"BARKK!\")\n",
    "        \n",
    "    generic_animal = Animal(\"generic\", \"Animal\")\n",
    "    generic_animal.legs\n",
    "                            \n",
    "lassie = Dog(True, \"Lassie\", \"Dog\")\n",
    "lassie.describe()\n",
    "lassie.speak()\n",
    "lassie.run()\n",
    "lassie.species\n",
    "lassie.is_house_trained"
   ]
  },
  {
   "cell_type": "code",
   "execution_count": 87,
   "metadata": {},
   "outputs": [
    {
     "data": {
      "text/plain": [
       "False"
      ]
     },
     "execution_count": 87,
     "metadata": {},
     "output_type": "execute_result"
    }
   ],
   "source": [
    "isinstance(\"lassie\", Dogg)\n",
    "isinstance(\"lassie\", Animal)"
   ]
  },
  {
   "cell_type": "markdown",
   "metadata": {},
   "source": [
    "##### The \\__init\\__() Method for a Child Class - super()"
   ]
  },
  {
   "cell_type": "code",
   "execution_count": 77,
   "metadata": {
    "scrolled": true
   },
   "outputs": [
    {
     "ename": "NameError",
     "evalue": "name 'Dog' is not defined",
     "output_type": "error",
     "traceback": [
      "\u001b[1;31m---------------------------------------------------------------------------\u001b[0m",
      "\u001b[1;31mNameError\u001b[0m                                 Traceback (most recent call last)",
      "\u001b[1;32m<ipython-input-77-a2b30c48a3e6>\u001b[0m in \u001b[0;36m<module>\u001b[1;34m\u001b[0m\n\u001b[1;32m----> 1\u001b[1;33m \u001b[0misinstance\u001b[0m\u001b[1;33m(\u001b[0m\u001b[1;34m\"lassie\"\u001b[0m\u001b[1;33m,\u001b[0m \u001b[0mDog\u001b[0m\u001b[1;33m)\u001b[0m\u001b[1;33m\u001b[0m\u001b[1;33m\u001b[0m\u001b[0m\n\u001b[0m\u001b[0;32m      2\u001b[0m \u001b[0misinstance\u001b[0m\u001b[1;33m(\u001b[0m\u001b[1;34m\"lassie\"\u001b[0m\u001b[1;33m,\u001b[0m \u001b[0mAnimal\u001b[0m\u001b[1;33m)\u001b[0m\u001b[1;33m\u001b[0m\u001b[1;33m\u001b[0m\u001b[0m\n",
      "\u001b[1;31mNameError\u001b[0m: name 'Dog' is not defined"
     ]
    }
   ],
   "source": [
    "#Grandchild "
   ]
  },
  {
   "cell_type": "markdown",
   "metadata": {},
   "source": [
    "##### Defining Attributes and Methods for the Child Class"
   ]
  },
  {
   "cell_type": "code",
   "execution_count": null,
   "metadata": {},
   "outputs": [],
   "source": [
    "# See Above"
   ]
  },
  {
   "cell_type": "markdown",
   "metadata": {},
   "source": [
    "##### Method Overriding"
   ]
  },
  {
   "cell_type": "code",
   "execution_count": null,
   "metadata": {},
   "outputs": [],
   "source": [
    "# See Above"
   ]
  },
  {
   "cell_type": "markdown",
   "metadata": {},
   "source": [
    "## Classes as Attributes <br>\n",
    "<p>Classes can also be used as attributes within another class. This is useful in situations where you need to keep variables locally stored, instead of globally stored.</p>"
   ]
  },
  {
   "cell_type": "code",
   "execution_count": null,
   "metadata": {},
   "outputs": [],
   "source": []
  },
  {
   "cell_type": "markdown",
   "metadata": {},
   "source": [
    "# Exercises"
   ]
  },
  {
   "cell_type": "markdown",
   "metadata": {},
   "source": [
    "### Exercise 1 - Turn the shopping cart program from yesterday into an object-oriented program"
   ]
  },
  {
   "cell_type": "code",
   "execution_count": 33,
   "metadata": {},
   "outputs": [
    {
     "name": "stdout",
     "output_type": "stream",
     "text": [
      "What do you want to do - show, add, modify, delete or quit?show\n",
      "There are no items in the shopping cart.\n",
      "What do you want to do - show, add, modify, delete or quit?add\n",
      "Please enter an item to add: apples\n",
      "Please enter a quantity for the item: 5\n",
      "Shopping cart: {'apples': '5'}\n",
      "\n",
      "What do you want to do - show, add, modify, delete or quit?add\n",
      "Please enter an item to add: apples\n",
      "Please enter a quantity for the item: 3\n",
      "Adding 3 more apples:\n",
      "Shopping cart: {'apples': 8}\n",
      "\n",
      "What do you want to do - show, add, modify, delete or quit?add\n",
      "Please enter an item to add: orange\n",
      "Please enter a quantity for the item: 10\n",
      "Shopping cart: {'apples': 8, 'orange': '10'}\n",
      "\n",
      "What do you want to do - show, add, modify, delete or quit?add\n",
      "Please enter an item to add: grapes\n",
      "Please enter a quantity for the item: 12\n",
      "Shopping cart: {'apples': 8, 'orange': '10', 'grapes': '12'}\n",
      "\n",
      "What do you want to do - show, add, modify, delete or quit?modify\n",
      "Please enter an item to modify: grapes\n",
      "Please enter a new quantity for the item: 20\n",
      "Shopping cart: {'apples': 8, 'orange': '10', 'grapes': '20'}\n",
      "\n",
      "What do you want to do - show, add, modify, delete or quit?del\n",
      "Invalid command!\n",
      "What do you want to do - show, add, modify, delete or quit?delete\n",
      "Please enter an item to delete: orange\n",
      "Shopping cart: {'apples': 8, 'grapes': '20'}\n",
      "\n",
      "What do you want to do - show, add, modify, delete or quit?show\n",
      "Shopping cart: {'apples': 8, 'grapes': '20'}\n",
      "What do you want to do - show, add, modify, delete or quit?quit\n"
     ]
    }
   ],
   "source": [
    "class Shopper:\n",
    "    def __init__(self, name, my_cart):\n",
    "        self.name = name\n",
    "        self.my_cart = my_cart\n",
    "        \n",
    "    def shop(self):\n",
    "        while True:\n",
    "            response = input(\"What do you want to do - show, add, modify, delete or quit?\")\n",
    "            if response.lower() == \"quit\":\n",
    "                break\n",
    "            elif response.lower() == \"add\":\n",
    "                self.my_cart.additems()\n",
    "            elif response.lower() == \"modify\":\n",
    "                self.my_cart.modifyitems()\n",
    "            elif response.lower() == \"delete\":\n",
    "                self.my_cart.deleteitems()\n",
    "            elif response.lower() == \"show\":\n",
    "                self.my_cart.showitems()\n",
    "            else:\n",
    "                print(\"Invalid command!\")\n",
    "\n",
    "\n",
    "class Cart:\n",
    "    def __init__(self):\n",
    "        self.shopping_cart = {}\n",
    "    \n",
    "    def additems(self):\n",
    "        item=input(\"Please enter an item to add: \").strip()\n",
    "        qty=input(\"Please enter a quantity for the item: \").strip()\n",
    "\n",
    "        if item not in self.shopping_cart:\n",
    "            self.shopping_cart[item] = qty\n",
    "        else:\n",
    "            print(f\"Adding {qty} more {item}:\")\n",
    "            newqty = int(self.shopping_cart[item]) + int(qty)\n",
    "            self.shopping_cart[item] = newqty\n",
    "        print(f\"Shopping cart: {self.shopping_cart}\\n\")\n",
    "\n",
    "    def modifyitems(self):\n",
    "        item=input(\"Please enter an item to modify: \").strip()\n",
    "         \n",
    "        if item not in self.shopping_cart:\n",
    "            print(f\"There are no {item} in the shopping cart.\")\n",
    "        else:\n",
    "            qty=input(\"Please enter a new quantity for the item: \").strip()\n",
    "            self.shopping_cart[item] = qty\n",
    "            print(f\"Shopping cart: {self.shopping_cart}\\n\")\n",
    "\n",
    "    def deleteitems(self):\n",
    "        item = input(\"Please enter an item to delete: \").strip()\n",
    "            \n",
    "        if item not in self.shopping_cart:\n",
    "            print(f\"There are no {item} in the shopping cart to delete.\")\n",
    "        else:\n",
    "            del self.shopping_cart[item]\n",
    "            print(f\"Shopping cart: {self.shopping_cart}\\n\")\n",
    "            \n",
    "    def showitems(self):\n",
    "        if not self.shopping_cart:\n",
    "                print(\"There are no items in the shopping cart.\")\n",
    "        else:\n",
    "            print(f\"Shopping cart: {self.shopping_cart}\")\n",
    "            \n",
    "        \n",
    "my_cart = Cart()                      \n",
    "shopper = Shopper(\"John\", my_cart)\n",
    "shopper.shop()\n",
    "\n",
    "\n"
   ]
  },
  {
   "cell_type": "markdown",
   "metadata": {},
   "source": [
    "### Exercise 2 - Write a Python class which has two methods get_String and print_String. get_String accept a string from the user and print_String print the string in upper case"
   ]
  },
  {
   "cell_type": "code",
   "execution_count": 43,
   "metadata": {},
   "outputs": [
    {
     "name": "stdout",
     "output_type": "stream",
     "text": [
      "Please enter a string: anu\n",
      "String in uppercase: ANU\n"
     ]
    }
   ],
   "source": [
    "class CapitalizeString:\n",
    "    \n",
    "    def __init__(self):\n",
    "        self.input_string = \"\"\n",
    "    \n",
    "    def get_String(self):\n",
    "        self.input_string = input(\"Please enter a string: \").strip()\n",
    "        \n",
    "    def print_String(self):\n",
    "        \n",
    "        print(f\"String in uppercase: {self.input_string.upper()}\")\n",
    "        \n",
    "\n",
    "user_string = CapitalizeString()   \n",
    "user_string.get_String()\n",
    "user_string.print_String()\n",
    "    "
   ]
  },
  {
   "cell_type": "code",
   "execution_count": 51,
   "metadata": {},
   "outputs": [
    {
     "name": "stdout",
     "output_type": "stream",
     "text": [
      "\n",
      "Welcome to ELite-74 parking. What would you like to do? Park, Pay, Leave or Not-Park(NP)?park\n",
      "\n",
      "----------------TAKE TICKET-------------------------\n",
      "\n",
      "AVAILABLE:\n",
      "Tickets (10): [1, 2, 3, 4, 5, 6, 7, 8, 9, 10]\n",
      "Parking spaces (10): ['1P', '2P', '3P', '4P', '5P', '6P', '7P', '8P', '9P', '10P']\n",
      "Status of tickets issued (0): {}\n",
      "\n",
      "Please take ticket 1\n",
      "Parking space 1P has been occupied\n",
      "Status of tickets issued (1): {1: 'unpaid'}\n",
      "\n",
      "AVAILABLE:\n",
      "Tickets (9): [2, 3, 4, 5, 6, 7, 8, 9, 10]\n",
      "Parking spaces (9): ['2P', '3P', '4P', '5P', '6P', '7P', '8P', '9P', '10P']\n",
      "Status of tickets issued (1): {1: 'unpaid'}\n",
      "\n",
      "Welcome to ELite-74 parking. What would you like to do? Park, Pay, Leave or Not-Park(NP)?park\n",
      "\n",
      "----------------TAKE TICKET-------------------------\n",
      "\n",
      "AVAILABLE:\n",
      "Tickets (9): [2, 3, 4, 5, 6, 7, 8, 9, 10]\n",
      "Parking spaces (9): ['2P', '3P', '4P', '5P', '6P', '7P', '8P', '9P', '10P']\n",
      "Status of tickets issued (1): {1: 'unpaid'}\n",
      "\n",
      "Please take ticket 2\n",
      "Parking space 2P has been occupied\n",
      "Status of tickets issued (2): {1: 'unpaid', 2: 'unpaid'}\n",
      "\n",
      "AVAILABLE:\n",
      "Tickets (8): [3, 4, 5, 6, 7, 8, 9, 10]\n",
      "Parking spaces (8): ['3P', '4P', '5P', '6P', '7P', '8P', '9P', '10P']\n",
      "Status of tickets issued (2): {1: 'unpaid', 2: 'unpaid'}\n",
      "\n",
      "Welcome to ELite-74 parking. What would you like to do? Park, Pay, Leave or Not-Park(NP)?park\n",
      "\n",
      "----------------TAKE TICKET-------------------------\n",
      "\n",
      "AVAILABLE:\n",
      "Tickets (8): [3, 4, 5, 6, 7, 8, 9, 10]\n",
      "Parking spaces (8): ['3P', '4P', '5P', '6P', '7P', '8P', '9P', '10P']\n",
      "Status of tickets issued (2): {1: 'unpaid', 2: 'unpaid'}\n",
      "\n",
      "Please take ticket 3\n",
      "Parking space 3P has been occupied\n",
      "Status of tickets issued (3): {1: 'unpaid', 2: 'unpaid', 3: 'unpaid'}\n",
      "\n",
      "AVAILABLE:\n",
      "Tickets (7): [4, 5, 6, 7, 8, 9, 10]\n",
      "Parking spaces (7): ['4P', '5P', '6P', '7P', '8P', '9P', '10P']\n",
      "Status of tickets issued (3): {1: 'unpaid', 2: 'unpaid', 3: 'unpaid'}\n",
      "\n",
      "Welcome to ELite-74 parking. What would you like to do? Park, Pay, Leave or Not-Park(NP)?leave\n",
      "\n",
      "--------------LEAVE GARAGE-----------------------\n",
      "\n",
      "AVAILABLE:\n",
      "Tickets (7): [4, 5, 6, 7, 8, 9, 10]\n",
      "Parking spaces (7): ['4P', '5P', '6P', '7P', '8P', '9P', '10P']\n",
      "Status of tickets issued (3): {1: 'unpaid', 2: 'unpaid', 3: 'unpaid'}\n",
      "\n",
      "Please scan your ticket number: 3\n",
      "Please pay before exiting...\n",
      "\n",
      "Welcome to ELite-74 parking. What would you like to do? Park, Pay, Leave or Not-Park(NP)?pay\n",
      "\n",
      "----------------PAY TICKET-------------------------\n",
      "\n",
      "Please enter your ticket number: 3\n",
      "Please pay for your ticket...\n",
      "Press any key to pay...2\n",
      "Thank you for the payment. You have 15mins to leave.\n",
      "\n",
      "Status of tickets issued: {1: 'unpaid', 2: 'unpaid', 3: 'paid'}\n",
      "\n",
      "Welcome to ELite-74 parking. What would you like to do? Park, Pay, Leave or Not-Park(NP)?leave\n",
      "\n",
      "--------------LEAVE GARAGE-----------------------\n",
      "\n",
      "AVAILABLE:\n",
      "Tickets (7): [4, 5, 6, 7, 8, 9, 10]\n",
      "Parking spaces (7): ['4P', '5P', '6P', '7P', '8P', '9P', '10P']\n",
      "Status of tickets issued (3): {1: 'unpaid', 2: 'unpaid', 3: 'paid'}\n",
      "\n",
      "Please scan your ticket number: 3\n",
      "Thank you, have a nice day!\n",
      "\n",
      "AVAILABLE:\n",
      "Tickets (8): [4, 5, 6, 7, 8, 9, 10, 3]\n",
      "Parking spaces (8): ['4P', '5P', '6P', '7P', '8P', '9P', '10P', '3P']\n",
      "Status of tickets issued (2): {1: 'unpaid', 2: 'unpaid'}\n",
      "\n",
      "Welcome to ELite-74 parking. What would you like to do? Park, Pay, Leave or Not-Park(NP)?pay\n",
      "\n",
      "----------------PAY TICKET-------------------------\n",
      "\n",
      "Please enter your ticket number: 1\n",
      "Please pay for your ticket...\n",
      "Press any key to pay...11\n",
      "Thank you for the payment. You have 15mins to leave.\n",
      "\n",
      "Status of tickets issued: {1: 'paid', 2: 'unpaid'}\n",
      "\n",
      "Welcome to ELite-74 parking. What would you like to do? Park, Pay, Leave or Not-Park(NP)?leave\n",
      "\n",
      "--------------LEAVE GARAGE-----------------------\n",
      "\n",
      "AVAILABLE:\n",
      "Tickets (8): [4, 5, 6, 7, 8, 9, 10, 3]\n",
      "Parking spaces (8): ['4P', '5P', '6P', '7P', '8P', '9P', '10P', '3P']\n",
      "Status of tickets issued (2): {1: 'paid', 2: 'unpaid'}\n",
      "\n",
      "Please scan your ticket number: 1\n",
      "Thank you, have a nice day!\n",
      "\n",
      "AVAILABLE:\n",
      "Tickets (9): [4, 5, 6, 7, 8, 9, 10, 3, 1]\n",
      "Parking spaces (9): ['4P', '5P', '6P', '7P', '8P', '9P', '10P', '3P', '1P']\n",
      "Status of tickets issued (1): {2: 'unpaid'}\n",
      "\n",
      "Welcome to ELite-74 parking. What would you like to do? Park, Pay, Leave or Not-Park(NP)?pay\n",
      "\n",
      "----------------PAY TICKET-------------------------\n",
      "\n",
      "Please enter your ticket number: 2\n",
      "Please pay for your ticket...\n",
      "Press any key to pay...2\n",
      "Thank you for the payment. You have 15mins to leave.\n",
      "\n",
      "Status of tickets issued: {2: 'paid'}\n",
      "\n",
      "Welcome to ELite-74 parking. What would you like to do? Park, Pay, Leave or Not-Park(NP)?leave\n",
      "\n",
      "--------------LEAVE GARAGE-----------------------\n",
      "\n",
      "AVAILABLE:\n",
      "Tickets (9): [4, 5, 6, 7, 8, 9, 10, 3, 1]\n",
      "Parking spaces (9): ['4P', '5P', '6P', '7P', '8P', '9P', '10P', '3P', '1P']\n",
      "Status of tickets issued (1): {2: 'paid'}\n",
      "\n",
      "Please scan your ticket number: 2\n",
      "Thank you, have a nice day!\n",
      "\n",
      "AVAILABLE:\n",
      "Tickets (10): [4, 5, 6, 7, 8, 9, 10, 3, 1, 2]\n",
      "Parking spaces (10): ['4P', '5P', '6P', '7P', '8P', '9P', '10P', '3P', '1P', '2P']\n",
      "Status of tickets issued (0): {}\n",
      "\n",
      "Welcome to ELite-74 parking. What would you like to do? Park, Pay, Leave or Not-Park(NP)?np\n"
     ]
    }
   ],
   "source": [
    "from IPython.display import clear_output\n",
    "\n",
    "class Vehicle:\n",
    "\n",
    "    def __init__(self, garage):\n",
    "        self.garage = garage\n",
    "\n",
    "    def park(self):\n",
    "        while True:\n",
    "            response = input(\"\\nWelcome to ELite-74 parking. What would you like to do? Park, Pay, Leave or Not-Park(NP)?\")\n",
    "            if response.lower() == \"np\":\n",
    "                break\n",
    "            elif response.lower() == \"park\":\n",
    "                self.garage.take_ticket()\n",
    "            elif response.lower() == \"pay\":\n",
    "                self.garage.pay_ticket()\n",
    "            elif response.lower() == \"leave\":\n",
    "                self.garage.leave_garage()\n",
    "            else:\n",
    "                print(\"Invalid command! Try again.\")\n",
    "\n",
    "\n",
    "class ParkingGarage:\n",
    "    def __init__(self):\n",
    "        self.tickets = [1,2,3,4,5,6,7,8,9,10]\n",
    "        self.parkingspaces = [\"1P\",\"2P\",\"3P\",\"4P\",\"5P\",\"6P\",\"7P\",\"8P\",\"9P\",\"10P\"]\n",
    "        self.currentTicket = {}\n",
    "\n",
    "    #Take Ticket\n",
    "    def take_ticket(self):\n",
    "        print(\"\\n----------------TAKE TICKET-------------------------\")\n",
    "        self.show_status()\n",
    "        if len(self.tickets) == 0:\n",
    "            print(\"Sorry the garage is full\")\n",
    "        else:\n",
    "            user_ticket = self.tickets.pop(0)\n",
    "            occupied_parking = self.parkingspaces.pop(0)\n",
    "            self.currentTicket[user_ticket] = \"unpaid\"\n",
    "            print(f\"\\nPlease take ticket {user_ticket}\")\n",
    "            print(f\"Parking space {occupied_parking} has been occupied\")\n",
    "            print(f\"Status of tickets issued ({len(self.currentTicket)}): {self.currentTicket}\")\n",
    "            self.show_status()\n",
    "    \n",
    "\n",
    "    #Pay\n",
    "    def pay_ticket(self):\n",
    "        print(\"\\n----------------PAY TICKET-------------------------\")\n",
    "        #clear_output()\n",
    "        ticket_num = input(\"\\nPlease enter your ticket number: \").strip()\n",
    "        \n",
    "        if ticket_num in str(self.currentTicket.keys()):\n",
    "            print(\"Please pay for your ticket...\")\n",
    "            payment = input(\"Press any key to pay...\")\n",
    "            if payment != \"\":\n",
    "                print(\"Thank you for the payment. You have 15mins to leave.\")\n",
    "                self.currentTicket[int(ticket_num)] = \"paid\"\n",
    "                print(f\"\\nStatus of tickets issued: {self.currentTicket}\")\n",
    "        else:\n",
    "            print(\"Please take the ticket first\")\n",
    "            \n",
    "            \n",
    "    #Leave\n",
    "    def leave_garage(self):\n",
    "        print(\"\\n--------------LEAVE GARAGE-----------------------\")\n",
    "        self.show_status()\n",
    "        ticket_num = input(\"\\nPlease scan your ticket number: \").strip()\n",
    "        if ticket_num in str(self.currentTicket.keys()): \n",
    "            if self.currentTicket[int(ticket_num)].lower() == \"paid\":\n",
    "                print(\"Thank you, have a nice day!\")\n",
    "                del self.currentTicket[int(ticket_num)]\n",
    "                self.tickets.append(int(ticket_num))\n",
    "                self.parkingspaces.append(ticket_num+\"P\")\n",
    "                self.show_status()\n",
    "            else:\n",
    "                print(\"Please pay before exiting...\")\n",
    "        else:\n",
    "            print(\"Invalid ticket number!\")\n",
    "            \n",
    "            \n",
    "    #Show \n",
    "    def show_status(self):\n",
    "        print(f\"\\nAVAILABLE:\")\n",
    "        print(f\"Tickets ({len(self.tickets)}): {self.tickets}\")\n",
    "        print(f\"Parking spaces ({len(self.parkingspaces)}): {self.parkingspaces}\")\n",
    "        print(f\"Status of tickets issued ({len(self.currentTicket)}): {self.currentTicket}\")\n",
    "        \n",
    "\n",
    "garage = ParkingGarage()\n",
    "car = Vehicle(garage)\n",
    "car.park()"
   ]
  },
  {
   "cell_type": "code",
   "execution_count": null,
   "metadata": {},
   "outputs": [],
   "source": []
  }
 ],
 "metadata": {
  "kernelspec": {
   "display_name": "Python 3",
   "language": "python",
   "name": "python3"
  },
  "language_info": {
   "codemirror_mode": {
    "name": "ipython",
    "version": 3
   },
   "file_extension": ".py",
   "mimetype": "text/x-python",
   "name": "python",
   "nbconvert_exporter": "python",
   "pygments_lexer": "ipython3",
   "version": "3.8.8"
  }
 },
 "nbformat": 4,
 "nbformat_minor": 2
}
